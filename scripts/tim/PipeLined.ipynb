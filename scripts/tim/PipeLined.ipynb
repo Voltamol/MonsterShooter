{
 "cells": [
  {
   "cell_type": "code",
   "execution_count": null,
   "id": "37fe691c-ad98-4aac-a687-9d2d4717a63d",
   "metadata": {
    "canvas": {
     "comments": [],
     "componentType": "CodeCell",
     "copiedOriginId": null,
     "diskcache": false,
     "headerColor": "transparent",
     "id": "1ac9e659-4741-4b1e-9f40-0281d812d6a6",
     "isComponent": true,
     "name": "IMPORTS AND INITIALISATIONS",
     "parents": []
    },
    "tags": []
   },
   "outputs": [],
   "source": [
    "import pygame\n",
    "pygame.init()\n",
    "\n",
    "# KEYBOARD STUFF...\n",
    "from pygame.locals import(\n",
    "    KEYDOWN,\n",
    "    K_ESCAPE,\n",
    "    K_LEFT,\n",
    "    K_RIGHT,\n",
    "    K_SPACE,\n",
    "    K_RETURN,\n",
    "    K_TAB,\n",
    "    RLEACCEL,\n",
    "    K_x,\n",
    ")\n",
    "# SCREEN STUFF...\n",
    "SCREEN_DIMENSIONS=[800,480]\n",
    "minute=60000\n",
    "screen=pygame.display.set_mode(SCREEN_DIMENSIONS)\n",
    "\n",
    "# COLORS...\n",
    "colors=dict(\n",
    "    red=[255,0,0],\n",
    "    green=[0,255,0],\n",
    "    blue=[0,0,255],\n",
    "    white=[255,255,255],\n",
    "    black=[0,0,0],\n",
    "    gray=[100,100,100],\n",
    "    yellow=[255,255,0]\n",
    ")\n",
    "\n",
    "# MATH STUFF...\n",
    "from math import pow\n",
    "from random import randint\n",
    "# PATH STUFF...\n",
    "import os\n",
    "from os.path import join"
   ]
  },
  {
   "cell_type": "code",
   "execution_count": null,
   "id": "366a1e77-3325-49cf-9e93-2daf05b46c84",
   "metadata": {
    "canvas": {
     "comments": [],
     "componentType": "CodeCell",
     "copiedOriginId": null,
     "diskcache": false,
     "headerColor": "transparent",
     "id": "5995ae33-8ea3-4bcf-91ba-0ce202d59d74",
     "isComponent": false,
     "name": "",
     "parents": []
    }
   },
   "outputs": [],
   "source": []
  }
 ],
 "metadata": {
  "canvas": {
   "colorPalette": [
    "inherit",
    "inherit",
    "inherit",
    "inherit",
    "inherit",
    "inherit",
    "inherit",
    "inherit",
    "inherit",
    "inherit"
   ],
   "parameters": []
  },
  "kernelspec": {
   "display_name": "Python 3 (ipykernel)",
   "language": "python",
   "name": "python3"
  },
  "language_info": {
   "codemirror_mode": {
    "name": "ipython",
    "version": 3
   },
   "file_extension": ".py",
   "mimetype": "text/x-python",
   "name": "python",
   "nbconvert_exporter": "python",
   "pygments_lexer": "ipython3",
   "version": "3.10.12"
  }
 },
 "nbformat": 4,
 "nbformat_minor": 5
}
